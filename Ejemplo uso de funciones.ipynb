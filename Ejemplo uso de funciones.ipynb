{
 "cells": [
  {
   "cell_type": "markdown",
   "id": "d4adc749-bd83-44ce-9414-d8cc9fece37d",
   "metadata": {},
   "source": [
    "# Notebook guiado de ejemplo para implementar el código"
   ]
  },
  {
   "cell_type": "code",
   "execution_count": 87,
   "id": "562c4634-bf23-49b8-b3a9-553532c3b290",
   "metadata": {},
   "outputs": [],
   "source": [
    "import pandas as pd\n",
    "from datetime import datetime\n",
    "import numpy as np\n",
    "from glob import glob\n",
    "import re\n",
    "import joblib\n",
    "from sklearn.preprocessing import StandardScaler\n",
    "\n",
    "from copy import copy\n",
    "\n",
    "SEED = 15051991"
   ]
  },
  {
   "cell_type": "code",
   "execution_count": 86,
   "id": "8c5aadb0-05ed-416d-a09b-b5fdba4da3a4",
   "metadata": {},
   "outputs": [],
   "source": [
    "def full_preproc_exgenas(pr18, df_precipitaciones, df_temperaturas,\n",
    "                                     attr_list = ['PH', 'Fe', 'TURBIEDAD', 'CT', 'E-COLI', 'COLOR VERD', 'precipitacion', 'temperatura']):\n",
    "    \n",
    "    \"\"\"\n",
    "    DOCSTRING:\n",
    "        ...\n",
    "        \n",
    "        Params:\n",
    "            - pr18 (pd.DataFrame:\n",
    "            - df_precipitaciones (pd.DataFrame):\n",
    "            - df_temperaturas (pd.DataFrame):\n",
    "            - attr_list (list of str): \n",
    "        \n",
    "        Return (pd.DataFrame):\n",
    "            - \n",
    "            \n",
    "    \"\"\"\n",
    "\n",
    "    def preproc_data_noHistory(data, target = 'valor', date_col = 'fecha_muestra', attr_col = 'codigo_parametro',\n",
    "                        user_classes = ['Fe', 'COLOR VERD', 'CT', 'PH', 'E-COLI', 'TURBIEDAD'], \n",
    "                        drop_NaN_classes = True, date_freq = 'D'):\n",
    "        df = copy(data) \n",
    "        df.dropna(subset = target, inplace = True)\n",
    "        \n",
    "        # columna entregada en date_col debe seguir formato yyyy-mm-dd\n",
    "        df.fecha_muestra = pd.to_datetime(df[date_col], format = '%Y-%m-%d')\n",
    "        \n",
    "        grouped = df.groupby([\n",
    "            attr_col, pd.Grouper(key=date_col, freq=date_freq)])[target].mean().reset_index().sort_values(by = date_col)\n",
    "    \n",
    "        grouped_pivoted = pd.pivot_table(data = grouped, index = date_col, columns = attr_col, values = target)[user_classes]\n",
    "        grouped_pivoted.columns.name =  None\n",
    "    \n",
    "        if drop_NaN_classes: # Para obtener una matriz de atributos siempre densa\n",
    "            grouped_pivoted.dropna(inplace = True)\n",
    "        \n",
    "        return grouped_pivoted\n",
    "    \n",
    "    ############## Datos Precipitaciones y Temperaturas (CR2) ##############\n",
    "    \n",
    "    df_temperaturas['fecha_muestra'] = pd.to_datetime(df_temperaturas['fecha_muestra']) - pd.to_timedelta(7, unit='d')\n",
    "    df_precipitaciones['fecha_muestra'] = pd.to_datetime(df_precipitaciones['fecha_muestra']) - pd.to_timedelta(7, unit='d')\n",
    "    \n",
    "    # Agrupacion semanal de precipitaciones y temperaturas\n",
    "    weekly_precipitaciones = df_precipitaciones.groupby([pd.Grouper(key='fecha_muestra', freq='W-MON')]).mean().reset_index()\n",
    "    weekly_precipitaciones = weekly_precipitaciones.groupby(['fecha_muestra']).mean()\n",
    "    \n",
    "    weekly_temperaturas = df_temperaturas.groupby([pd.Grouper(key='fecha_muestra', freq='W-MON')]).mean().reset_index()\n",
    "    weekly_temperaturas = weekly_temperaturas.groupby(['fecha_muestra']).mean()\n",
    "    \n",
    "    # ForwardFilling\n",
    "    weekly_precipitaciones_noLocalidad = weekly_precipitaciones.reset_index()\\\n",
    "                                .groupby(by = 'fecha_muestra').mean().resample('W-MON').ffill()\n",
    "    weekly_temperaturas_noLocalidad = weekly_temperaturas.reset_index()\\\n",
    "                                .groupby(by = 'fecha_muestra').mean().resample('W-MON').ffill()\n",
    "    \n",
    "    \n",
    "    ############## PR18 ##############\n",
    "    # Preproc general para pr18\n",
    "    pr18_processed = preproc_data_noHistory(pr18, drop_NaN_classes=False, date_freq = 'W-MON')\n",
    "    \n",
    "    # Join de datos de temperatura y precip con conjunto de datos de RP18 + forward filling para las fechas que no calcen\n",
    "    data_exogena_padded = pr18_processed.join(weekly_precipitaciones_noLocalidad).join(weekly_temperaturas_noLocalidad)[attr_list]#\\\n",
    "                                                                                                        \n",
    "    for col_name, col in data_exogena_padded.iteritems():\n",
    "        data_exogena_padded[col_name] = data_exogena_padded[col_name].fillna(method = 'ffill')\n",
    "    \n",
    "    return data_exogena_padded\n",
    "\n",
    "\n",
    "def getDataFrame_from_CR2Source(file_path, variable_name):\n",
    "    localidad_re = re.compile(r'/(\\w+)_\\w+_\\w+\\.xlsx')\n",
    "    codigoLocalidad_dict = {'Coyhaique': 82, 'PuertoChacabuco': 255, 'PuertoCisnes': 256, 'Balmaceda': 22, 'PuertoAysen': 254, 'Cochrane': 62,\n",
    "    'PuertoIbanez': 257, 'ChileChico': 55}\n",
    "    \n",
    "    nombre_localidad = localidad_re.findall(file_path)[0]\n",
    "    \n",
    "    precip_data = pd.read_excel(file_path)\n",
    "    precip_data['fecha_muestra'] = pd.to_datetime(list(map(lambda row: f\"{int(row[1]['agno'])}/{int(row[1]['mes'])}/{int(row[1]['dia'])}\",\n",
    "                                                           precip_data.iterrows())))\n",
    "    \n",
    "    # insertar una columna constante con el codigo de la localidad para despues hacer el join\n",
    "    precip_data['codigoLocalidad'] = codigoLocalidad_dict[nombre_localidad] \n",
    "    precip_data.rename({'valor': variable_name}, axis = 1, inplace = True)\n",
    "    \n",
    "    return precip_data[['fecha_muestra', 'codigoLocalidad', variable_name]]\n",
    "\n",
    "def buildLaggedFeatures(s,lag=2,dropna=True):\n",
    "        '''\n",
    "        Builds a new DataFrame to facilitate regressing over all possible lagged features\n",
    "        '''\n",
    "        if type(s) is pd.DataFrame:\n",
    "            new_dict={}\n",
    "            for col_name in s:\n",
    "                new_dict[col_name]=s[col_name]\n",
    "                # create lagged Series\n",
    "                for l in range(1,lag+1):\n",
    "                    new_dict['%s_lag%d' %(col_name,l)]=s[col_name].shift(l)\n",
    "            res=pd.DataFrame(new_dict,index=s.index)\n",
    "        \n",
    "        elif type(s) is pd.Series:\n",
    "            the_range=range(lag+1)\n",
    "            res=pd.concat([s.shift(i) for i in the_range],axis=1)\n",
    "            res.columns=['lag_%d' %i for i in the_range]\n",
    "        else:\n",
    "            print('Only works for DataFrame or Series')\n",
    "            return None\n",
    "        if dropna:\n",
    "            return res.dropna()\n",
    "        else:\n",
    "            return res \n",
    "\n",
    "def generate_predict_format(df, target_col, attr_list = ['Fe', 'COLOR VERD', 'CT', 'PH', 'E-COLI', 'TURBIEDAD'], lag = 3, transform_method = None, ):\n",
    "    \n",
    "    if transform_method != None:\n",
    "        return transform_method.transform(buildLaggedFeatures(df[attr_list], lag = lag).to_numpy())\n",
    "    else:\n",
    "        return buildLaggedFeatures(df[attr_list], lag = lag)\n",
    "    \n",
    "    \n",
    "def generate_train_test(data, target_col, test_size = 12, lag = 3, attr_list = ['Fe', 'COLOR VERD', 'CT', 'PH', 'E-COLI', 'TURBIEDAD']):\n",
    "    # Construccion de las matrices de entrenamiento y pruebas\n",
    "    X = buildLaggedFeatures(data[attr_list], lag=lag).drop(columns = attr_list).iloc[test_size-1:,:]\n",
    "    Y = buildLaggedFeatures(data[target_col].iloc[lag:], lag=test_size-1)\n",
    "    \n",
    "    std_exogen = StandardScaler()\n",
    "    \n",
    "    x_train = X.iloc[:-test_size, :].to_numpy()\n",
    "    x_test = X.iloc[-test_size:, :].to_numpy()\n",
    "    \n",
    "    x_train = std_exogen.fit_transform(x_train)\n",
    "    x_test = std_exogen.transform(x_test)\n",
    "    \n",
    "    y_train = Y.iloc[:-test_size]\n",
    "    y_test = Y.iloc[-test_size:]\n",
    "    \n",
    "    return {'data': (x_train, x_test, y_train, y_test), 'std_scaler': std_exogen}\n",
    "    "
   ]
  },
  {
   "cell_type": "code",
   "execution_count": 65,
   "id": "2e4bc12e-9628-4738-8665-10d91fcedfe7",
   "metadata": {},
   "outputs": [],
   "source": [
    "pr18_files = glob('modeloRiesgoAmbiental/DATOS INTERNOS TOTAL LOCALIDADES/Historial PR18-2 Muestras/*.csv')\n",
    "pr18 = pd.concat([pd.read_csv(file, index_col=0) for file in pr18_files], axis = 0) # Estas dos lineas son reemplazables por otra forma de ingesta de esta info\n",
    "\n",
    "precip_file_paths = glob('precip_data/diarias/CR2/*.xlsx')\n",
    "temp_file_paths = glob('temperaturasMedias/diarias/CR2/*.xlsx')\n",
    "\n",
    "localidad_re = re.compile(r'/(\\w+)_\\w+_\\w+\\.xlsx')\n",
    "codigoLocalidad_dict = {'Coyhaique': 82, 'PuertoChacabuco': 255, 'PuertoCisnes': 256, 'Balmaceda': 22, 'PuertoAysen': 254, 'Cochrane': 62,\n",
    "    'PuertoIbanez': 257, 'ChileChico': 55}\n",
    "\n",
    "df_precipitaciones = pd.DataFrame(pd.concat([getDataFrame_from_CR2Source(file_path, 'precipitacion') for file_path in precip_file_paths], axis = 0))\n",
    "df_precipitaciones.drop(columns = ['codigoLocalidad'], inplace = True)\n",
    "df_temperaturas = pd.DataFrame(pd.concat([getDataFrame_from_CR2Source(file_path, 'temperatura') for file_path in temp_file_paths], axis = 0))\n",
    "df_temperaturas.drop(columns = ['codigoLocalidad'], inplace =True)"
   ]
  },
  {
   "cell_type": "markdown",
   "id": "1b13aef2-a54d-4f86-b7ea-8a47e91a4d8c",
   "metadata": {},
   "source": [
    "# Para realizar el proceso de entrenamiento"
   ]
  },
  {
   "cell_type": "markdown",
   "id": "5096fd70-9235-4892-ab88-b3e5ee62bdda",
   "metadata": {},
   "source": [
    "## Paso 1: Aplicar el procesamiento general a los datos leidos"
   ]
  },
  {
   "cell_type": "code",
   "execution_count": 67,
   "id": "81698423-1763-4ace-a8fc-6351305efe6d",
   "metadata": {},
   "outputs": [],
   "source": [
    "proc_data = full_preproc_exgenas(pr18, df_precipitaciones, df_temperaturas)"
   ]
  },
  {
   "cell_type": "markdown",
   "id": "5c4c6063-e87f-44e6-ba59-92bc25ed6619",
   "metadata": {},
   "source": [
    "## Paso 2: Invocar a la funcion generate_train_test con los datos procesados para formar las matrices de entrenamiento y pruebas"
   ]
  },
  {
   "cell_type": "code",
   "execution_count": 68,
   "id": "1cbaa867-a73e-424a-8f21-addbfe3436e4",
   "metadata": {
    "tags": []
   },
   "outputs": [],
   "source": [
    "tain_test_format_results = generate_train_test(proc_data, target_col = 'E-COLI')\n",
    "x_train, x_test, y_train, y_test = tain_test_format_results['data']\n",
    "scaler = tain_test_format_results['std_scaler']"
   ]
  },
  {
   "cell_type": "markdown",
   "id": "4b7fa487-68b5-4ef9-83b9-3bba0e041a2f",
   "metadata": {},
   "source": [
    "Por defecto el modelo se entrena para predecir los siguientes 12 valores de la variable target_col entregada a la funcion `generate_train_test`"
   ]
  },
  {
   "cell_type": "markdown",
   "id": "0297b41e-7240-4bca-9b84-f060aa96f1ee",
   "metadata": {},
   "source": [
    "## Paso 3: Entrenar a los modelos"
   ]
  },
  {
   "cell_type": "code",
   "execution_count": 69,
   "id": "cbc5e8c4-5ed4-4fcb-9be4-5df5a6a346db",
   "metadata": {},
   "outputs": [],
   "source": [
    "from sklearn.linear_model import LinearRegression"
   ]
  },
  {
   "cell_type": "code",
   "execution_count": 70,
   "id": "a3af7370-c4ce-4947-a23d-4136e07b6a4e",
   "metadata": {},
   "outputs": [],
   "source": [
    "linreg = LinearRegression().fit(x_train, y_train)"
   ]
  },
  {
   "cell_type": "markdown",
   "id": "283ea540-f166-4c89-86d2-4a9c93d8b248",
   "metadata": {},
   "source": [
    "# Para realizar predicciones con un modelo pre-entrenado:\n",
    "\n",
    "> __Nota:__ El modelo debe estar cargado en memoria en una variable"
   ]
  },
  {
   "cell_type": "markdown",
   "id": "8f457d4f-46f6-42e3-ae82-b9620f91aa28",
   "metadata": {},
   "source": [
    "## Paso 1: Cargar el modelo pre-entrenado y el estandarizador"
   ]
  },
  {
   "cell_type": "code",
   "execution_count": 89,
   "id": "f4118db1-fd1f-4d71-ba01-01fda64f64fb",
   "metadata": {},
   "outputs": [],
   "source": [
    "scaler = joblib.load('modelos/ecoli_scaler_general.joblib')\n",
    "linreg = joblib.load('modelos/ecoli_linreg_general.joblib')"
   ]
  },
  {
   "cell_type": "markdown",
   "id": "bd74ebe3-304e-4dd1-9405-192724fc2d33",
   "metadata": {},
   "source": [
    "## Paso 2: Aplicar el procesamiento general a los datos leidos"
   ]
  },
  {
   "cell_type": "code",
   "execution_count": 96,
   "id": "50604d79-c97c-49a5-a3b7-57ef9290716d",
   "metadata": {},
   "outputs": [],
   "source": [
    "proc_data = full_preproc_exgenas(pr18, df_precipitaciones, df_temperaturas)"
   ]
  },
  {
   "cell_type": "markdown",
   "id": "54544447-0240-4895-a437-6a9e7f7b928a",
   "metadata": {},
   "source": [
    "## Paso 2: Usar la funcion generate_predict_format para estructurar a los datos en el formato necesario para el modelo\n",
    "\n",
    "Para formar una matriz de prediccion con un lag de 2, por ejemplo, se deben entregar al menos 3 filas de datos (lag + 1):"
   ]
  },
  {
   "cell_type": "code",
   "execution_count": 97,
   "id": "efcbc7a4-3629-4e79-88c3-9acf661b3478",
   "metadata": {},
   "outputs": [
    {
     "data": {
      "text/html": [
       "<div>\n",
       "<style scoped>\n",
       "    .dataframe tbody tr th:only-of-type {\n",
       "        vertical-align: middle;\n",
       "    }\n",
       "\n",
       "    .dataframe tbody tr th {\n",
       "        vertical-align: top;\n",
       "    }\n",
       "\n",
       "    .dataframe thead th {\n",
       "        text-align: right;\n",
       "    }\n",
       "</style>\n",
       "<table border=\"1\" class=\"dataframe\">\n",
       "  <thead>\n",
       "    <tr style=\"text-align: right;\">\n",
       "      <th></th>\n",
       "      <th>PH</th>\n",
       "      <th>Fe</th>\n",
       "      <th>TURBIEDAD</th>\n",
       "      <th>CT</th>\n",
       "      <th>E-COLI</th>\n",
       "      <th>COLOR VERD</th>\n",
       "      <th>precipitacion</th>\n",
       "      <th>temperatura</th>\n",
       "    </tr>\n",
       "    <tr>\n",
       "      <th>fecha_muestra</th>\n",
       "      <th></th>\n",
       "      <th></th>\n",
       "      <th></th>\n",
       "      <th></th>\n",
       "      <th></th>\n",
       "      <th></th>\n",
       "      <th></th>\n",
       "      <th></th>\n",
       "    </tr>\n",
       "  </thead>\n",
       "  <tbody>\n",
       "    <tr>\n",
       "      <th>2019-10-07</th>\n",
       "      <td>6.7675</td>\n",
       "      <td>0.0465</td>\n",
       "      <td>0.85</td>\n",
       "      <td>5.533333</td>\n",
       "      <td>0.75</td>\n",
       "      <td>11.666667</td>\n",
       "      <td>3.697436</td>\n",
       "      <td>11.627027</td>\n",
       "    </tr>\n",
       "    <tr>\n",
       "      <th>2019-10-14</th>\n",
       "      <td>6.3080</td>\n",
       "      <td>0.0465</td>\n",
       "      <td>0.85</td>\n",
       "      <td>5.533333</td>\n",
       "      <td>0.75</td>\n",
       "      <td>11.666667</td>\n",
       "      <td>3.946154</td>\n",
       "      <td>11.280556</td>\n",
       "    </tr>\n",
       "    <tr>\n",
       "      <th>2019-10-21</th>\n",
       "      <td>7.3450</td>\n",
       "      <td>0.0465</td>\n",
       "      <td>0.85</td>\n",
       "      <td>1600.000000</td>\n",
       "      <td>0.75</td>\n",
       "      <td>11.666667</td>\n",
       "      <td>0.639535</td>\n",
       "      <td>14.907895</td>\n",
       "    </tr>\n",
       "  </tbody>\n",
       "</table>\n",
       "</div>"
      ],
      "text/plain": [
       "                   PH      Fe  TURBIEDAD           CT  E-COLI  COLOR VERD  \\\n",
       "fecha_muestra                                                               \n",
       "2019-10-07     6.7675  0.0465       0.85     5.533333    0.75   11.666667   \n",
       "2019-10-14     6.3080  0.0465       0.85     5.533333    0.75   11.666667   \n",
       "2019-10-21     7.3450  0.0465       0.85  1600.000000    0.75   11.666667   \n",
       "\n",
       "               precipitacion  temperatura  \n",
       "fecha_muestra                              \n",
       "2019-10-07          3.697436    11.627027  \n",
       "2019-10-14          3.946154    11.280556  \n",
       "2019-10-21          0.639535    14.907895  "
      ]
     },
     "execution_count": 97,
     "metadata": {},
     "output_type": "execute_result"
    }
   ],
   "source": [
    "proc_data.iloc[:3,:]"
   ]
  },
  {
   "cell_type": "code",
   "execution_count": 98,
   "id": "42fe9b3f-a135-49d2-b280-6cf3c46d7f2d",
   "metadata": {},
   "outputs": [],
   "source": [
    "x = generate_predict_format(proc_data.iloc[:3,:], transform_method=scaler, target_col = 'E-COLI', lag = 2)"
   ]
  },
  {
   "cell_type": "markdown",
   "id": "8d4d1b4d-1abd-4d68-9b5f-66c3c700f09d",
   "metadata": {},
   "source": [
    "## Paso 3: Invocar al método predict del modelo con los datos formados"
   ]
  },
  {
   "cell_type": "code",
   "execution_count": 99,
   "id": "00ec5a23-39fb-49d4-98e8-dcff1e7bdd69",
   "metadata": {
    "tags": []
   },
   "outputs": [
    {
     "data": {
      "text/plain": [
       "array([[2.18739039, 0.70120314, 0.80698745, 0.87728223, 3.74806953,\n",
       "        4.98236182, 2.74761022, 6.09106554, 1.36220079, 4.57500483,\n",
       "        5.86580354, 3.13692787]])"
      ]
     },
     "execution_count": 99,
     "metadata": {},
     "output_type": "execute_result"
    }
   ],
   "source": [
    "linreg.predict(x[0,:].reshape(-1,18))"
   ]
  },
  {
   "cell_type": "markdown",
   "id": "b4b56b3a-f11d-4f76-b5f7-6e83207e2e92",
   "metadata": {},
   "source": []
  }
 ],
 "metadata": {
  "kernelspec": {
   "display_name": "Python 3 (ipykernel)",
   "language": "python",
   "name": "python3"
  },
  "language_info": {
   "codemirror_mode": {
    "name": "ipython",
    "version": 3
   },
   "file_extension": ".py",
   "mimetype": "text/x-python",
   "name": "python",
   "nbconvert_exporter": "python",
   "pygments_lexer": "ipython3",
   "version": "3.9.7"
  }
 },
 "nbformat": 4,
 "nbformat_minor": 5
}
